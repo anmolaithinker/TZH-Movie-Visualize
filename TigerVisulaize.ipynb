{
 "cells": [
  {
   "cell_type": "code",
   "execution_count": 82,
   "metadata": {},
   "outputs": [
    {
     "name": "stdout",
     "output_type": "stream",
     "text": [
      "[nltk_data] Downloading package stopwords to /home/anmol/nltk_data...\n",
      "[nltk_data]   Package stopwords is already up-to-date!\n",
      "Populating the interactive namespace from numpy and matplotlib\n"
     ]
    }
   ],
   "source": [
    "import numpy as np\n",
    "import pandas as pd\n",
    "import matplotlib as mpl\n",
    "import matplotlib.pyplot as plt\n",
    "import matplotlib.pylab as pylab\n",
    "\n",
    "# Text Blob\n",
    "from textblob import TextBlob\n",
    "\n",
    "# NLTK\n",
    "import re\n",
    "import nltk\n",
    "nltk.download('stopwords')\n",
    "from nltk.corpus import stopwords\n",
    "from nltk.stem.porter import PorterStemmer\n",
    "\n",
    "from sklearn.feature_extraction.text import CountVectorizer\n",
    "from sklearn.feature_extraction.text import TfidfVectorizer\n",
    "from sklearn.cross_validation import train_test_split\n",
    "from sklearn.naive_bayes import GaussianNB\n",
    "from sklearn.metrics import confusion_matrix\n",
    "from sklearn.svm import SVC\n",
    "from sklearn.linear_model import LogisticRegression\n",
    "from xgboost import XGBClassifier\n",
    "\n",
    "from keras.layers import LSTM, Convolution1D, Flatten, Dropout, Dense\n",
    "from keras.layers.embeddings import Embedding\n",
    "from keras.models import Sequential\n",
    "\n",
    "from keras.preprocessing.text import Tokenizer\n",
    "from keras.preprocessing.sequence import pad_sequences\n",
    "\n",
    "%pylab inline\n",
    "pylab.rcParams['figure.figsize'] = (15, 4)"
   ]
  },
  {
   "cell_type": "code",
   "execution_count": 3,
   "metadata": {},
   "outputs": [],
   "source": [
    "df = pd.read_csv('TigerZindaHai.txt')"
   ]
  },
  {
   "cell_type": "code",
   "execution_count": 4,
   "metadata": {},
   "outputs": [],
   "source": [
    "df = df.drop(['Unnamed: 0'] , axis = 1)"
   ]
  },
  {
   "cell_type": "code",
   "execution_count": 9,
   "metadata": {},
   "outputs": [
    {
     "data": {
      "text/html": [
       "<div>\n",
       "<style>\n",
       "    .dataframe thead tr:only-child th {\n",
       "        text-align: right;\n",
       "    }\n",
       "\n",
       "    .dataframe thead th {\n",
       "        text-align: left;\n",
       "    }\n",
       "\n",
       "    .dataframe tbody tr th {\n",
       "        vertical-align: top;\n",
       "    }\n",
       "</style>\n",
       "<table border=\"1\" class=\"dataframe\">\n",
       "  <thead>\n",
       "    <tr style=\"text-align: right;\">\n",
       "      <th></th>\n",
       "      <th>Ratings</th>\n",
       "      <th>Title</th>\n",
       "      <th>Date</th>\n",
       "      <th>Content</th>\n",
       "    </tr>\n",
       "  </thead>\n",
       "  <tbody>\n",
       "    <tr>\n",
       "      <th>0</th>\n",
       "      <td>7/10</td>\n",
       "      <td>Fiction ZInda Hai</td>\n",
       "      <td>25 December 2017</td>\n",
       "      <td>The whole idea of watching a movie is to get e...</td>\n",
       "    </tr>\n",
       "    <tr>\n",
       "      <th>1</th>\n",
       "      <td>5/10</td>\n",
       "      <td>Long Review: Tiger Zinda Hai</td>\n",
       "      <td>26 December 2017</td>\n",
       "      <td>Today, one is so much familiar with the type o...</td>\n",
       "    </tr>\n",
       "    <tr>\n",
       "      <th>2</th>\n",
       "      <td>2/10</td>\n",
       "      <td>Another mediocre blockbuster</td>\n",
       "      <td>29 December 2017</td>\n",
       "      <td>I watched this movie on Christmas eve with pac...</td>\n",
       "    </tr>\n",
       "    <tr>\n",
       "      <th>3</th>\n",
       "      <td>1/10</td>\n",
       "      <td>What a fake movie!!!!!!</td>\n",
       "      <td>25 December 2017</td>\n",
       "      <td>Background music to some extent is good. Salma...</td>\n",
       "    </tr>\n",
       "    <tr>\n",
       "      <th>4</th>\n",
       "      <td>6/10</td>\n",
       "      <td>\"Script Zinda Nahi Hai\"- but still watchable f...</td>\n",
       "      <td>22 December 2017</td>\n",
       "      <td>Salman Khan never dissappoints at the box offi...</td>\n",
       "    </tr>\n",
       "    <tr>\n",
       "      <th>5</th>\n",
       "      <td>1/10</td>\n",
       "      <td>Piece of junk !!!</td>\n",
       "      <td>26 December 2017</td>\n",
       "      <td>As expected,one more salman khan movie with no...</td>\n",
       "    </tr>\n",
       "    <tr>\n",
       "      <th>6</th>\n",
       "      <td>1/10</td>\n",
       "      <td>What a load of BS!!</td>\n",
       "      <td>25 February 2018</td>\n",
       "      <td>Again and Again Bhai proves how un-evlolved he...</td>\n",
       "    </tr>\n",
       "    <tr>\n",
       "      <th>7</th>\n",
       "      <td>4/10</td>\n",
       "      <td>Boring</td>\n",
       "      <td>14 February 2018</td>\n",
       "      <td>Movie was good for first 10 minutes and after ...</td>\n",
       "    </tr>\n",
       "    <tr>\n",
       "      <th>8</th>\n",
       "      <td>4/10</td>\n",
       "      <td>Only for Salman fans!</td>\n",
       "      <td>10 February 2018</td>\n",
       "      <td>No logic in fight scenes. Story is weak, have ...</td>\n",
       "    </tr>\n",
       "    <tr>\n",
       "      <th>9</th>\n",
       "      <td>1/10</td>\n",
       "      <td>Expected crap</td>\n",
       "      <td>3 January 2018</td>\n",
       "      <td>Appeasement and glorification of real life cri...</td>\n",
       "    </tr>\n",
       "  </tbody>\n",
       "</table>\n",
       "</div>"
      ],
      "text/plain": [
       "  Ratings                                              Title  \\\n",
       "0    7/10                                  Fiction ZInda Hai   \n",
       "1    5/10                       Long Review: Tiger Zinda Hai   \n",
       "2    2/10                       Another mediocre blockbuster   \n",
       "3    1/10                            What a fake movie!!!!!!   \n",
       "4    6/10  \"Script Zinda Nahi Hai\"- but still watchable f...   \n",
       "5    1/10                                  Piece of junk !!!   \n",
       "6    1/10                                What a load of BS!!   \n",
       "7    4/10                                             Boring   \n",
       "8    4/10                              Only for Salman fans!   \n",
       "9    1/10                                      Expected crap   \n",
       "\n",
       "               Date                                            Content  \n",
       "0  25 December 2017  The whole idea of watching a movie is to get e...  \n",
       "1  26 December 2017  Today, one is so much familiar with the type o...  \n",
       "2  29 December 2017  I watched this movie on Christmas eve with pac...  \n",
       "3  25 December 2017  Background music to some extent is good. Salma...  \n",
       "4  22 December 2017  Salman Khan never dissappoints at the box offi...  \n",
       "5  26 December 2017  As expected,one more salman khan movie with no...  \n",
       "6  25 February 2018  Again and Again Bhai proves how un-evlolved he...  \n",
       "7  14 February 2018  Movie was good for first 10 minutes and after ...  \n",
       "8  10 February 2018  No logic in fight scenes. Story is weak, have ...  \n",
       "9    3 January 2018  Appeasement and glorification of real life cri...  "
      ]
     },
     "execution_count": 9,
     "metadata": {},
     "output_type": "execute_result"
    }
   ],
   "source": [
    "df.head(10)"
   ]
  },
  {
   "cell_type": "code",
   "execution_count": 5,
   "metadata": {},
   "outputs": [],
   "source": [
    "df['Ratings'] = df['Ratings'].apply(lambda x: x.replace('/10',''))"
   ]
  },
  {
   "cell_type": "code",
   "execution_count": 12,
   "metadata": {},
   "outputs": [
    {
     "data": {
      "text/html": [
       "<div>\n",
       "<style>\n",
       "    .dataframe thead tr:only-child th {\n",
       "        text-align: right;\n",
       "    }\n",
       "\n",
       "    .dataframe thead th {\n",
       "        text-align: left;\n",
       "    }\n",
       "\n",
       "    .dataframe tbody tr th {\n",
       "        vertical-align: top;\n",
       "    }\n",
       "</style>\n",
       "<table border=\"1\" class=\"dataframe\">\n",
       "  <thead>\n",
       "    <tr style=\"text-align: right;\">\n",
       "      <th></th>\n",
       "      <th>Ratings</th>\n",
       "      <th>Title</th>\n",
       "      <th>Date</th>\n",
       "      <th>Content</th>\n",
       "    </tr>\n",
       "  </thead>\n",
       "  <tbody>\n",
       "    <tr>\n",
       "      <th>0</th>\n",
       "      <td>7</td>\n",
       "      <td>Fiction ZInda Hai</td>\n",
       "      <td>25 December 2017</td>\n",
       "      <td>The whole idea of watching a movie is to get e...</td>\n",
       "    </tr>\n",
       "    <tr>\n",
       "      <th>1</th>\n",
       "      <td>5</td>\n",
       "      <td>Long Review: Tiger Zinda Hai</td>\n",
       "      <td>26 December 2017</td>\n",
       "      <td>Today, one is so much familiar with the type o...</td>\n",
       "    </tr>\n",
       "    <tr>\n",
       "      <th>2</th>\n",
       "      <td>2</td>\n",
       "      <td>Another mediocre blockbuster</td>\n",
       "      <td>29 December 2017</td>\n",
       "      <td>I watched this movie on Christmas eve with pac...</td>\n",
       "    </tr>\n",
       "    <tr>\n",
       "      <th>3</th>\n",
       "      <td>1</td>\n",
       "      <td>What a fake movie!!!!!!</td>\n",
       "      <td>25 December 2017</td>\n",
       "      <td>Background music to some extent is good. Salma...</td>\n",
       "    </tr>\n",
       "    <tr>\n",
       "      <th>4</th>\n",
       "      <td>6</td>\n",
       "      <td>\"Script Zinda Nahi Hai\"- but still watchable f...</td>\n",
       "      <td>22 December 2017</td>\n",
       "      <td>Salman Khan never dissappoints at the box offi...</td>\n",
       "    </tr>\n",
       "  </tbody>\n",
       "</table>\n",
       "</div>"
      ],
      "text/plain": [
       "  Ratings                                              Title  \\\n",
       "0       7                                  Fiction ZInda Hai   \n",
       "1       5                       Long Review: Tiger Zinda Hai   \n",
       "2       2                       Another mediocre blockbuster   \n",
       "3       1                            What a fake movie!!!!!!   \n",
       "4       6  \"Script Zinda Nahi Hai\"- but still watchable f...   \n",
       "\n",
       "               Date                                            Content  \n",
       "0  25 December 2017  The whole idea of watching a movie is to get e...  \n",
       "1  26 December 2017  Today, one is so much familiar with the type o...  \n",
       "2  29 December 2017  I watched this movie on Christmas eve with pac...  \n",
       "3  25 December 2017  Background music to some extent is good. Salma...  \n",
       "4  22 December 2017  Salman Khan never dissappoints at the box offi...  "
      ]
     },
     "execution_count": 12,
     "metadata": {},
     "output_type": "execute_result"
    }
   ],
   "source": [
    "df.head()"
   ]
  },
  {
   "cell_type": "markdown",
   "metadata": {},
   "source": [
    "## Below Graph is showing 1 star ratings and 10 star ratings are almost same"
   ]
  },
  {
   "cell_type": "code",
   "execution_count": 26,
   "metadata": {},
   "outputs": [
    {
     "name": "stdout",
     "output_type": "stream",
     "text": [
      "1     33\n",
      "10    32\n",
      "8      8\n",
      "7      8\n",
      "4      8\n",
      "5      8\n",
      "9      5\n",
      "6      5\n",
      "2      4\n",
      "3      4\n",
      "Name: Ratings, dtype: int64\n"
     ]
    },
    {
     "data": {
      "image/png": "[encoded data removed]",
      "text/plain": [
       "<matplotlib.figure.Figure at 0x7f1c68dd3fd0>"
      ]
     },
     "metadata": {},
     "output_type": "display_data"
    }
   ],
   "source": [
    "df['Ratings'].value_counts().plot.bar()\n",
    "print (df['Ratings'].value_counts())"
   ]
  },
  {
   "cell_type": "markdown",
   "metadata": {},
   "source": [
    "## Done some approx.\n",
    "\n",
    "#### Ratings >=5   Positive Ratings (1)\n",
    "#### Ratings < 5 Negative Ratings (0)\n",
    "\n",
    "#### Positive Ratings (115 users) -> 57.39%\n",
    "#### Negative Ratings (115 Users) -> 42.60%"
   ]
  },
  {
   "cell_type": "code",
   "execution_count": 6,
   "metadata": {},
   "outputs": [],
   "source": [
    "df['PosNeg'] = df['Ratings'].apply(lambda x : 0 if(int(x)<5) else 1)    "
   ]
  },
  {
   "cell_type": "code",
   "execution_count": 7,
   "metadata": {},
   "outputs": [
    {
     "data": {
      "text/html": [
       "<div>\n",
       "<style>\n",
       "    .dataframe thead tr:only-child th {\n",
       "        text-align: right;\n",
       "    }\n",
       "\n",
       "    .dataframe thead th {\n",
       "        text-align: left;\n",
       "    }\n",
       "\n",
       "    .dataframe tbody tr th {\n",
       "        vertical-align: top;\n",
       "    }\n",
       "</style>\n",
       "<table border=\"1\" class=\"dataframe\">\n",
       "  <thead>\n",
       "    <tr style=\"text-align: right;\">\n",
       "      <th></th>\n",
       "      <th>Ratings</th>\n",
       "      <th>Title</th>\n",
       "      <th>Date</th>\n",
       "      <th>Content</th>\n",
       "      <th>PosNeg</th>\n",
       "    </tr>\n",
       "  </thead>\n",
       "  <tbody>\n",
       "    <tr>\n",
       "      <th>0</th>\n",
       "      <td>7</td>\n",
       "      <td>Fiction ZInda Hai</td>\n",
       "      <td>25 December 2017</td>\n",
       "      <td>The whole idea of watching a movie is to get e...</td>\n",
       "      <td>1</td>\n",
       "    </tr>\n",
       "    <tr>\n",
       "      <th>1</th>\n",
       "      <td>5</td>\n",
       "      <td>Long Review: Tiger Zinda Hai</td>\n",
       "      <td>26 December 2017</td>\n",
       "      <td>Today, one is so much familiar with the type o...</td>\n",
       "      <td>1</td>\n",
       "    </tr>\n",
       "    <tr>\n",
       "      <th>2</th>\n",
       "      <td>2</td>\n",
       "      <td>Another mediocre blockbuster</td>\n",
       "      <td>29 December 2017</td>\n",
       "      <td>I watched this movie on Christmas eve with pac...</td>\n",
       "      <td>0</td>\n",
       "    </tr>\n",
       "    <tr>\n",
       "      <th>3</th>\n",
       "      <td>1</td>\n",
       "      <td>What a fake movie!!!!!!</td>\n",
       "      <td>25 December 2017</td>\n",
       "      <td>Background music to some extent is good. Salma...</td>\n",
       "      <td>0</td>\n",
       "    </tr>\n",
       "    <tr>\n",
       "      <th>4</th>\n",
       "      <td>6</td>\n",
       "      <td>\"Script Zinda Nahi Hai\"- but still watchable f...</td>\n",
       "      <td>22 December 2017</td>\n",
       "      <td>Salman Khan never dissappoints at the box offi...</td>\n",
       "      <td>1</td>\n",
       "    </tr>\n",
       "  </tbody>\n",
       "</table>\n",
       "</div>"
      ],
      "text/plain": [
       "  Ratings                                              Title  \\\n",
       "0       7                                  Fiction ZInda Hai   \n",
       "1       5                       Long Review: Tiger Zinda Hai   \n",
       "2       2                       Another mediocre blockbuster   \n",
       "3       1                            What a fake movie!!!!!!   \n",
       "4       6  \"Script Zinda Nahi Hai\"- but still watchable f...   \n",
       "\n",
       "               Date                                            Content  PosNeg  \n",
       "0  25 December 2017  The whole idea of watching a movie is to get e...       1  \n",
       "1  26 December 2017  Today, one is so much familiar with the type o...       1  \n",
       "2  29 December 2017  I watched this movie on Christmas eve with pac...       0  \n",
       "3  25 December 2017  Background music to some extent is good. Salma...       0  \n",
       "4  22 December 2017  Salman Khan never dissappoints at the box offi...       1  "
      ]
     },
     "execution_count": 7,
     "metadata": {},
     "output_type": "execute_result"
    }
   ],
   "source": [
    "df.head()"
   ]
  },
  {
   "cell_type": "code",
   "execution_count": 65,
   "metadata": {},
   "outputs": [
    {
     "name": "stdout",
     "output_type": "stream",
     "text": [
      "1    66\n",
      "0    49\n",
      "Name: PosNeg, dtype: int64\n"
     ]
    },
    {
     "data": {
      "image/png": "[encoded data removed]",
      "text/plain": [
       "<matplotlib.figure.Figure at 0x7f1c68c97b50>"
      ]
     },
     "metadata": {},
     "output_type": "display_data"
    }
   ],
   "source": [
    "df['PosNeg'].value_counts().plot.bar()\n",
    "print(df['PosNeg'].value_counts())"
   ]
  },
  {
   "cell_type": "code",
   "execution_count": 8,
   "metadata": {},
   "outputs": [
    {
     "name": "stdout",
     "output_type": "stream",
     "text": [
      "Positive Ratings : 57.3913043478\n",
      "Negative Ratings : 42.6086956522\n"
     ]
    }
   ],
   "source": [
    "print (\"Positive Ratings : \" + str(float(66/115.0) * 100))\n",
    "print (\"Negative Ratings : \" + str(float(49/115.0) * 100))"
   ]
  },
  {
   "cell_type": "markdown",
   "metadata": {},
   "source": [
    "# Visualizing Relative percentage of positive reviews according to dates"
   ]
  },
  {
   "cell_type": "code",
   "execution_count": 78,
   "metadata": {},
   "outputs": [
    {
     "data": {
      "text/plain": [
       "<matplotlib.axes._subplots.AxesSubplot at 0x7f1c68ca3c50>"
      ]
     },
     "execution_count": 78,
     "metadata": {},
     "output_type": "execute_result"
    },
    {
     "data": {
      "image/png": "[encoded data removed]",
      "text/plain": [
       "<matplotlib.figure.Figure at 0x7f1c68c63b10>"
      ]
     },
     "metadata": {},
     "output_type": "display_data"
    }
   ],
   "source": [
    "df['Date'].value_counts()[:7].plot.barh()"
   ]
  },
  {
   "cell_type": "code",
   "execution_count": 86,
   "metadata": {
    "collapsed": true
   },
   "outputs": [],
   "source": [
    "lis = df['Date'].value_counts()[:7].index.tolist()\n",
    "lis_value = df['Date'].value_counts()[:7]"
   ]
  },
  {
   "cell_type": "code",
   "execution_count": 100,
   "metadata": {},
   "outputs": [
    {
     "name": "stdout",
     "output_type": "stream",
     "text": [
      "21\n",
      "Total Perc. of Positive Comments on 22 December 2017 : 72\n",
      "12\n",
      "Total Perc. of Positive Comments on 23 December 2017 : 80\n",
      "6\n",
      "Total Perc. of Positive Comments on 25 December 2017 : 60\n",
      "6\n",
      "Total Perc. of Positive Comments on 24 December 2017 : 66\n",
      "3\n",
      "Total Perc. of Positive Comments on 26 December 2017 : 37\n",
      "1\n",
      "Total Perc. of Positive Comments on 29 December 2017 : 25\n",
      "1\n",
      "Total Perc. of Positive Comments on 31 December 2017 : 33\n"
     ]
    }
   ],
   "source": [
    "def getCount(date):\n",
    "    count = 0\n",
    "    for i in range(0,df.shape[0]):\n",
    "        if(str(df['Date'][i]) == str(date)):\n",
    "            if(int(df['PosNeg'][i]) == 1):\n",
    "                count = count+1\n",
    "    return count\n",
    "\n",
    "perce = []\n",
    "for i in lis:\n",
    "    total = lis_value[i]\n",
    "    d = getCount(i)\n",
    "    print(d)\n",
    "    print ('Total Perc. of Positive Comments on '+str(i)+' : '+str(int(float(d/float(total))*100)))\n",
    "    perce.append(int(float(d/float(total))*100))"
   ]
  },
  {
   "cell_type": "code",
   "execution_count": 121,
   "metadata": {
    "scrolled": true
   },
   "outputs": [
    {
     "data": {
      "text/plain": [
       "[<matplotlib.lines.Line2D at 0x7f1c6875e410>]"
      ]
     },
     "execution_count": 121,
     "metadata": {},
     "output_type": "execute_result"
    },
    {
     "data": {
      "image/png": "[encoded data removed]",
      "text/plain": [
       "<matplotlib.figure.Figure at 0x7f1c68675790>"
      ]
     },
     "metadata": {},
     "output_type": "display_data"
    }
   ],
   "source": [
    "plt.plot(lis,perce,'ro')"
   ]
  },
  {
   "cell_type": "markdown",
   "metadata": {},
   "source": [
    "# Sentiment Analysis \n",
    "\n",
    "### Accuracy :\n",
    "#### 1. Gaussian Naive bayes - 78\n",
    "#### 2. SVM - 78\n",
    "#### 3. LSTM - 86"
   ]
  },
  {
   "cell_type": "code",
   "execution_count": 9,
   "metadata": {},
   "outputs": [
    {
     "data": {
      "text/html": [
       "<div>\n",
       "<style>\n",
       "    .dataframe thead tr:only-child th {\n",
       "        text-align: right;\n",
       "    }\n",
       "\n",
       "    .dataframe thead th {\n",
       "        text-align: left;\n",
       "    }\n",
       "\n",
       "    .dataframe tbody tr th {\n",
       "        vertical-align: top;\n",
       "    }\n",
       "</style>\n",
       "<table border=\"1\" class=\"dataframe\">\n",
       "  <thead>\n",
       "    <tr style=\"text-align: right;\">\n",
       "      <th></th>\n",
       "      <th>Ratings</th>\n",
       "      <th>Title</th>\n",
       "      <th>Date</th>\n",
       "      <th>Content</th>\n",
       "      <th>PosNeg</th>\n",
       "    </tr>\n",
       "  </thead>\n",
       "  <tbody>\n",
       "    <tr>\n",
       "      <th>0</th>\n",
       "      <td>7</td>\n",
       "      <td>Fiction ZInda Hai</td>\n",
       "      <td>25 December 2017</td>\n",
       "      <td>The whole idea of watching a movie is to get e...</td>\n",
       "      <td>1</td>\n",
       "    </tr>\n",
       "    <tr>\n",
       "      <th>1</th>\n",
       "      <td>5</td>\n",
       "      <td>Long Review: Tiger Zinda Hai</td>\n",
       "      <td>26 December 2017</td>\n",
       "      <td>Today, one is so much familiar with the type o...</td>\n",
       "      <td>1</td>\n",
       "    </tr>\n",
       "    <tr>\n",
       "      <th>2</th>\n",
       "      <td>2</td>\n",
       "      <td>Another mediocre blockbuster</td>\n",
       "      <td>29 December 2017</td>\n",
       "      <td>I watched this movie on Christmas eve with pac...</td>\n",
       "      <td>0</td>\n",
       "    </tr>\n",
       "    <tr>\n",
       "      <th>3</th>\n",
       "      <td>1</td>\n",
       "      <td>What a fake movie!!!!!!</td>\n",
       "      <td>25 December 2017</td>\n",
       "      <td>Background music to some extent is good. Salma...</td>\n",
       "      <td>0</td>\n",
       "    </tr>\n",
       "    <tr>\n",
       "      <th>4</th>\n",
       "      <td>6</td>\n",
       "      <td>\"Script Zinda Nahi Hai\"- but still watchable f...</td>\n",
       "      <td>22 December 2017</td>\n",
       "      <td>Salman Khan never dissappoints at the box offi...</td>\n",
       "      <td>1</td>\n",
       "    </tr>\n",
       "  </tbody>\n",
       "</table>\n",
       "</div>"
      ],
      "text/plain": [
       "  Ratings                                              Title  \\\n",
       "0       7                                  Fiction ZInda Hai   \n",
       "1       5                       Long Review: Tiger Zinda Hai   \n",
       "2       2                       Another mediocre blockbuster   \n",
       "3       1                            What a fake movie!!!!!!   \n",
       "4       6  \"Script Zinda Nahi Hai\"- but still watchable f...   \n",
       "\n",
       "               Date                                            Content  PosNeg  \n",
       "0  25 December 2017  The whole idea of watching a movie is to get e...       1  \n",
       "1  26 December 2017  Today, one is so much familiar with the type o...       1  \n",
       "2  29 December 2017  I watched this movie on Christmas eve with pac...       0  \n",
       "3  25 December 2017  Background music to some extent is good. Salma...       0  \n",
       "4  22 December 2017  Salman Khan never dissappoints at the box offi...       1  "
      ]
     },
     "execution_count": 9,
     "metadata": {},
     "output_type": "execute_result"
    }
   ],
   "source": [
    "df.head()"
   ]
  },
  {
   "cell_type": "code",
   "execution_count": 112,
   "metadata": {},
   "outputs": [],
   "source": [
    "class NN:\n",
    "    def __init__(self):\n",
    "        self.model = Sequential()\n",
    "\n",
    "    #input_dim: This is the size of the vocabulary in the text data. For example, if your data is integer encoded to values between 0-10, then the size of the vocabulary would be 11 words.\n",
    "    #output_dim: This is the size of the vector space in which words will be embedded. It defines the size of the output vectors from this layer for each word. For example, it could be 32 or 100 or even larger. Test different values for your problem.\n",
    "    #input_length: This is the length of input sequences, as you would define for any input layer of a Keras model. For example, if all of your input documents are comprised of 1000 words, this would be 1000.\n",
    "    def EmbeddingLayer(self,input_dim,emb_dim,input_len = None):\n",
    "        print('Input Dimension : ' + str(input_dim))\n",
    "        print('Embedding Dimension : ' + str(emb_dim))\n",
    "        print('Input Length : ' + str(input_len))\n",
    "        self.model.add(Embedding(input_dim,emb_dim,input_length=input_len))\n",
    "        print('Embedd Success')\n",
    "        \n",
    "    def Conv1D(self,n_filters,kernel,padding = 'valid'):\n",
    "        self.model.add(Convolution1D(n_filters,kernel,padding = padding))\n",
    "    \n",
    "    # Flattening\n",
    "    def Flatten(self):\n",
    "        self.model.add(Flatten())\n",
    "        \n",
    "    # Hidden Layer    \n",
    "    def HiddenLayer(self,output,activation):\n",
    "        self.model.add(Dense(output,activation=activation))\n",
    "                    \n",
    "    # Output Layer                   \n",
    "    def Output(self,output,activation):\n",
    "        self.model.add(Dense(output,activation=activation))\n",
    "    \n",
    "    def Compile(self,loss,opt,metr):\n",
    "        self.model.compile(loss = loss , optimizer = opt , metrics = [metr]) \n",
    "        print(\"Successfully Compiled\")\n",
    "                        \n",
    "    def modelSummary(self):\n",
    "        print(\"Model Summary \\n\")\n",
    "        print(self.model.summary())   \n",
    "        \n",
    "    def FitTrain(self , x_train , y_train , batch_size , epochs):\n",
    "        self.model.fit(x_train, y_train,\n",
    "          batch_size=batch_size,\n",
    "          epochs=epochs)\n",
    "        \n",
    "    def Predictions(self,x_test):\n",
    "        return self.model.predict(x_test)\n",
    "    \n",
    "    def LSTM(self,output,return_sequences = False , drop_out = None):\n",
    "        self.model.add(LSTM(output ,return_sequences = return_sequences , dropout = drop_out))\n",
    "        \n",
    "    def Toeknizer(self , max_features ,data,split = ' '):\n",
    "        self.tokenizer = Tokenizer(num_words=max_features, split=split)\n",
    "        self.tokenizer.fit_on_texts(data)\n",
    "    \n",
    "    def PadSequences(self,data):\n",
    "        X = self.tokenizer.texts_to_sequences(data)\n",
    "        #print (\"Pad Seq. X : \" + str(X))\n",
    "        X = pad_sequences(X)\n",
    "        return X"
   ]
  },
  {
   "cell_type": "code",
   "execution_count": 113,
   "metadata": {},
   "outputs": [],
   "source": [
    "class NLP:\n",
    "    def __init__(self,rows,dataset):\n",
    "        self.rows = rows\n",
    "        self.dataset = dataset\n",
    "        \n",
    "    def preprocess(self,content):\n",
    "        corpus = []\n",
    "        for i in range(0,self.rows):\n",
    "            review = re.sub('[^a-zA-Z]', ' ', self.dataset[content][i])\n",
    "            review = review.lower()\n",
    "            review = review.split()\n",
    "            ps = PorterStemmer()\n",
    "            review = [ps.stem(word) for word in review if not word in set(stopwords.words('english'))]\n",
    "            review = ' '.join(review)\n",
    "            corpus.append(review)\n",
    "            self.corpus = corpus\n",
    "        return corpus\n",
    "    \n",
    "    #Creating Bag of words models\n",
    "    def CountVectorizer(self,y_num,prin = False):\n",
    "        max_features = self.getVocabSize()\n",
    "        cv = CountVectorizer(max_features = max_features)\n",
    "        self.X = cv.fit_transform(self.corpus).toarray()\n",
    "        self.y = self.dataset.iloc[:, y_num].values\n",
    "        if prin:\n",
    "            print('X : ' + str(self.X))\n",
    "            print ('Y : ' + str(self.y))\n",
    "            print('X_Shape : ' + str(self.X.shape))\n",
    "            print ('Y_Shape : ' + str(self.y.shape))\n",
    "            \n",
    "            \n",
    "    #TfIdf Vectorizer\n",
    "    def TFIDFVectorizor(self,y_num,prin = False):\n",
    "        print (\" TFIDFVectorizor : You can change min_df , max_df , ngram_range in the function\")\n",
    "        print (\"Currently : \\n min_df = 2 max_df = 0.5 ngram_range = (1,2)\")\n",
    "        tfidf = TfidfVectorizer(min_df = 2 , max_df = 0.5 , ngram_range = (1,2))\n",
    "        weights = tfidf.fit_transform(self.corpus)\n",
    "        self.X = weights.toarray()\n",
    "        self.y = self.dataset.iloc[:, y_num].values\n",
    "        if prin:\n",
    "            print('X : ' + str(self.X))\n",
    "            print ('Y : ' + str(self.y))\n",
    "            print('X_Shape : ' + str(self.X.shape))\n",
    "            print ('Y_Shape : ' + str(self.y.shape))\n",
    "            print ('\\n-------------------------------------------------\\n')\n",
    "            mydict = tfidf.vocabulary_\n",
    "            i = 0\n",
    "            for key, value in sorted(mydict.iteritems(), key=lambda (k,v): (v,k)):\n",
    "                i = i+1\n",
    "                print(str(key) + ' -> ' + str(value)+ ' :: ')                \n",
    "        \n",
    "    \n",
    "    def TrainTestSplit(self , test_size , rs,prin = False):\n",
    "        self.X_train, self.X_test, self.y_train, self.y_test = train_test_split(self.X, self.y, test_size = test_size, random_state = rs)\n",
    "        if prin:\n",
    "            print('X_train : ' + str(self.X_train))\n",
    "            print ('Y_train : ' + str(self.y_train))\n",
    "            print('X_test : ' + str(self.X_test))\n",
    "            print ('Y_test : ' + str(self.y_test)) \n",
    "            print('X_train_Shape : ' + str(self.X_train.shape))\n",
    "            print ('Y_train_Shape : ' + str(self.y_train.shape))\n",
    "            print('X_test_Shape : ' + str(self.X_test.shape))\n",
    "            print ('Y_test_Shape : ' + str(self.y_test.shape)) \n",
    "            \n",
    "        \n",
    "    def ConfusionMatrix(self,y_test,y_pred):\n",
    "        cm = confusion_matrix(y_test, y_pred)\n",
    "        print (\"Confusion Matrix : \\n\" + str(cm))\n",
    "        total = cm[0][0]+cm[0][1]+cm[1][0]+cm[1][1]\n",
    "        accurate = cm[0][0] + cm[1][1]\n",
    "        print (\"Accuracy : \" + str(int(float(accurate/float(total))*100)))\n",
    "        \n",
    "    # Get Vocab Size\n",
    "    def getVocabSize(self):\n",
    "        vocab = []\n",
    "        for i in range(len(self.corpus)):\n",
    "            for j in self.corpus[i].split():\n",
    "                vocab.append(j)\n",
    "        print (\"Vocabulary Size : \" + str(len(set(vocab))))\n",
    "        return len(set(vocab))\n",
    "    \n",
    "    \n",
    " ############################# MODELS ####################################################   \n",
    "    \n",
    "    def oneDConv(self,max_features,embd_dim):\n",
    "        n = NN()\n",
    "        n.EmbeddingLayer(max_features,embd_dim,int(self.X_train.shape[1]))\n",
    "\n",
    "        # Specify according to your choice\n",
    "        n.Conv1D(64,3)\n",
    "        n.Conv1D(32,3)\n",
    "        n.Conv1D(16,3)\n",
    "        n.Flatten()\n",
    "        n.HiddenLayer(128,'relu')\n",
    "        n.Output(1,'relu')\n",
    "        n.modelSummary()\n",
    "        \n",
    "        # Compiling the model\n",
    "        n.Compile('binary_crossentropy','adam','accuracy')\n",
    "        \n",
    "        # FitTraining\n",
    "        n.FitTrain(self.X_train,self.y_train,16,10)\n",
    "        y_pred = n.Predictions(self.X_test)\n",
    "        print (y_pred)\n",
    "        \n",
    "        \n",
    "     # LSTM \n",
    "    def LSTM(self,max_features,embd_dim):\n",
    "        n = NN()\n",
    "        n.Toeknizer(max_features,self.corpus)\n",
    "        self.X = n.PadSequences(self.corpus)\n",
    "        #print(\"X : \" + str(self.X))\n",
    "        self.y = self.dataset.iloc[:, -1].values\n",
    "        self.TrainTestSplit(0.2 , 0)\n",
    "        n.EmbeddingLayer(max_features,embd_dim,self.X.shape[1])\n",
    "        n.LSTM(30,False,0.2)\n",
    "        n.Output(1 , 'relu')\n",
    "        n.modelSummary()\n",
    "         # Compiling the model\n",
    "        n.Compile('binary_crossentropy','adam','accuracy')\n",
    "        n.FitTrain(self.X_train,self.y_train,16,10)\n",
    "        y_pred = n.Predictions(self.X_test)\n",
    "        #print (\"Before : \" + str(y_pred))\n",
    "        y_pred = (y_pred>=0.5)\n",
    "        #print (\"After : \" + str(y_pred))\n",
    "        self.ConfusionMatrix(self.y_test , y_pred)\n",
    "        \n",
    "        \n",
    "        \n",
    "     # Logistic Regression\n",
    "    def LogisticRegression(self):\n",
    "        self.classifier = LogisticRegression()\n",
    "        self.classifier.fit(self.X_train,self.y_train)\n",
    "        # Predicting the Test set results\n",
    "        y_pred = self.classifier.predict(self.X_test)\n",
    "        print (\"y_pred : \\n\" + str(y_pred))\n",
    "        self.ConfusionMatrix(self.y_test,y_pred)      \n",
    "        \n",
    "        \n",
    "    def XGBoost(self):\n",
    "        print (\"Fine Tune it :)\")\n",
    "        self.classifier = XGBClassifier(n_estimators=100 , max_depth = 6)\n",
    "        self.classifier.fit(self.X_train,self.y_train)\n",
    "        # Predicting the Test set results\n",
    "        y_pred = self.classifier.predict(self.X_test)\n",
    "        print (\"y_pred : \\n\" + str(y_pred))\n",
    "        self.ConfusionMatrix(self.y_test,y_pred)\n",
    "        \n",
    "    # SVM Classifier    \n",
    "    def SVM(self,kernel,rs):\n",
    "        self.classifier = SVC(kernel = kernel ,random_state = rs)\n",
    "        self.classifier.fit(self.X_train,self.y_train)\n",
    "        # Predicting the Test set results\n",
    "        y_pred = self.classifier.predict(self.X_test)\n",
    "        print (\"y_pred : \\n\" + str(y_pred))\n",
    "        self.ConfusionMatrix(self.y_test,y_pred)\n",
    "        \n",
    "        \n",
    "    # Gaussian Naive Bayes Classifier\n",
    "    def GaussianNB(self):\n",
    "        self.classifier = GaussianNB()\n",
    "        self.classifier.fit(self.X_train, self.y_train)\n",
    "        # Predicting the Test set results\n",
    "        y_pred = self.classifier.predict(self.X_test)\n",
    "        print (\"y_pred : \\n\" + str(y_pred))\n",
    "        self.ConfusionMatrix(self.y_test,y_pred)   \n",
    "    "
   ]
  },
  {
   "cell_type": "code",
   "execution_count": 114,
   "metadata": {},
   "outputs": [],
   "source": [
    "nlp = NLP(df.shape[0] , df)\n",
    "corpus = nlp.preprocess('Title')"
   ]
  },
  {
   "cell_type": "markdown",
   "metadata": {},
   "source": [
    "### Using CountVectorizer"
   ]
  },
  {
   "cell_type": "code",
   "execution_count": 99,
   "metadata": {
    "scrolled": true
   },
   "outputs": [
    {
     "name": "stdout",
     "output_type": "stream",
     "text": [
      "Vocabulary Size : 218\n"
     ]
    }
   ],
   "source": [
    "nlp.CountVectorizer(-1)\n",
    "nlp.TrainTestSplit(0.2,0)"
   ]
  },
  {
   "cell_type": "code",
   "execution_count": 100,
   "metadata": {},
   "outputs": [
    {
     "name": "stdout",
     "output_type": "stream",
     "text": [
      "Gaussian Naive Bayes :\n",
      "\n",
      "y_pred : \n",
      "[0 1 1 0 0 1 0 1 1 0 1 0 1 0 1 0 0 1 1 0 1 0 0]\n",
      "Confusion Matrix : \n",
      "[[ 8  1]\n",
      " [ 4 10]]\n",
      "Accuracy : 78\n"
     ]
    }
   ],
   "source": [
    "# Gaussian Naive bayes\n",
    "print(\"Gaussian Naive Bayes :\\n\")\n",
    "nlp.GaussianNB()"
   ]
  },
  {
   "cell_type": "code",
   "execution_count": 101,
   "metadata": {},
   "outputs": [
    {
     "name": "stdout",
     "output_type": "stream",
     "text": [
      "SVM : \n",
      "\n",
      "y_pred : \n",
      "[0 1 1 0 0 1 0 1 1 1 1 1 1 0 1 0 0 1 1 0 1 0 0]\n",
      "Confusion Matrix : \n",
      "[[ 7  2]\n",
      " [ 3 11]]\n",
      "Accuracy : 78\n"
     ]
    }
   ],
   "source": [
    "# SVM Classifier\n",
    "print(\"SVM : \\n\")\n",
    "nlp.SVM('linear' , 0)"
   ]
  },
  {
   "cell_type": "code",
   "execution_count": 102,
   "metadata": {},
   "outputs": [
    {
     "name": "stdout",
     "output_type": "stream",
     "text": [
      "Logistic Regression\n",
      "y_pred : \n",
      "[0 1 1 0 0 1 0 1 1 1 1 1 1 0 1 0 0 1 1 0 1 1 0]\n",
      "Confusion Matrix : \n",
      "[[ 7  2]\n",
      " [ 2 12]]\n",
      "Accuracy : 82\n"
     ]
    }
   ],
   "source": [
    "#Logistic Regression\n",
    "print (\"Logistic Regression\")\n",
    "nlp.LogisticRegression()"
   ]
  },
  {
   "cell_type": "code",
   "execution_count": 103,
   "metadata": {},
   "outputs": [
    {
     "name": "stdout",
     "output_type": "stream",
     "text": [
      "XGBoost \n",
      "\n",
      "Fine Tune it :)\n",
      "y_pred : \n",
      "[0 1 1 0 0 0 1 1 1 1 1 0 1 0 0 0 0 1 1 0 1 1 0]\n",
      "Confusion Matrix : \n",
      "[[ 7  2]\n",
      " [ 4 10]]\n",
      "Accuracy : 73\n"
     ]
    }
   ],
   "source": [
    "#XGBoost\n",
    "print (\"XGBoost \\n\")\n",
    "nlp.XGBoost()"
   ]
  },
  {
   "cell_type": "markdown",
   "metadata": {},
   "source": [
    "### Using TfIdf Vectorizor"
   ]
  },
  {
   "cell_type": "code",
   "execution_count": 97,
   "metadata": {},
   "outputs": [
    {
     "name": "stdout",
     "output_type": "stream",
     "text": [
      " TFIDFVectorizor : You can change min_df , max_df , ngram_range in the function\n",
      "Currently : \n",
      " min_df = 2 max_df = 0.5 ngram_range = (1,2)\n"
     ]
    }
   ],
   "source": [
    "nlp.TFIDFVectorizor(-1)\n",
    "nlp.TrainTestSplit(0.2,0)"
   ]
  },
  {
   "cell_type": "code",
   "execution_count": 23,
   "metadata": {},
   "outputs": [
    {
     "name": "stdout",
     "output_type": "stream",
     "text": [
      "Gaussian Naive Bayes :\n",
      "\n",
      "y_pred : \n",
      "[0 1 1 0 0 1 0 1 1 1 1 0 1 0 1 0 0 1 1 0 1 0 0]\n",
      "Confusion Matrix : \n",
      "[[ 8  1]\n",
      " [ 3 11]]\n",
      "Accuracy : 82\n"
     ]
    }
   ],
   "source": [
    "# Gaussian Naive bayes\n",
    "print(\"Gaussian Naive Bayes :\\n\")\n",
    "nlp.GaussianNB()"
   ]
  },
  {
   "cell_type": "code",
   "execution_count": 24,
   "metadata": {},
   "outputs": [
    {
     "name": "stdout",
     "output_type": "stream",
     "text": [
      "SVM : \n",
      "\n",
      "y_pred : \n",
      "[0 1 1 0 0 1 0 1 1 1 1 1 1 0 1 1 0 1 1 0 1 1 0]\n",
      "Confusion Matrix : \n",
      "[[ 7  2]\n",
      " [ 1 13]]\n",
      "Accuracy : 86\n"
     ]
    }
   ],
   "source": [
    "# SVM Classifier\n",
    "print(\"SVM : \\n\")\n",
    "nlp.SVM('linear' , 0)"
   ]
  },
  {
   "cell_type": "code",
   "execution_count": 81,
   "metadata": {},
   "outputs": [
    {
     "name": "stdout",
     "output_type": "stream",
     "text": [
      "Logistic Regression\n",
      "y_pred : \n",
      "[0 1 1 0 0 1 0 1 1 1 1 1 1 1 1 1 1 1 1 0 1 1 1]\n",
      "Confusion Matrix : \n",
      "[[ 5  4]\n",
      " [ 0 14]]\n",
      "Accuracy : 82\n"
     ]
    }
   ],
   "source": [
    "#Logistic Regression\n",
    "print (\"Logistic Regression\")\n",
    "nlp.LogisticRegression()"
   ]
  },
  {
   "cell_type": "code",
   "execution_count": 98,
   "metadata": {},
   "outputs": [
    {
     "name": "stdout",
     "output_type": "stream",
     "text": [
      "XGBoost \n",
      "\n",
      "Fine Tune it :)\n",
      "y_pred : \n",
      "[0 1 0 0 0 0 0 0 1 1 1 0 1 0 0 0 0 1 1 0 1 1 0]\n",
      "Confusion Matrix : \n",
      "[[8 1]\n",
      " [6 8]]\n",
      "Accuracy : 69\n"
     ]
    }
   ],
   "source": [
    "#XGBoost\n",
    "print (\"XGBoost \\n\")\n",
    "nlp.XGBoost()"
   ]
  },
  {
   "cell_type": "markdown",
   "metadata": {},
   "source": [
    "## Using LSTM"
   ]
  },
  {
   "cell_type": "code",
   "execution_count": 116,
   "metadata": {},
   "outputs": [
    {
     "name": "stdout",
     "output_type": "stream",
     "text": [
      "Input Dimension : 218\n",
      "Embedding Dimension : 218\n",
      "Input Length : 17\n",
      "Embedd Success\n",
      "Model Summary \n",
      "\n",
      "_________________________________________________________________\n",
      "Layer (type)                 Output Shape              Param #   \n",
      "=================================================================\n",
      "embedding_3 (Embedding)      (None, 17, 218)           47524     \n",
      "_________________________________________________________________\n",
      "lstm_3 (LSTM)                (None, 30)                29880     \n",
      "_________________________________________________________________\n",
      "dense_3 (Dense)              (None, 1)                 31        \n",
      "=================================================================\n",
      "Total params: 77,435\n",
      "Trainable params: 77,435\n",
      "Non-trainable params: 0\n",
      "_________________________________________________________________\n",
      "None\n",
      "Successfully Compiled\n",
      "Epoch 1/10\n",
      "92/92 [==============================] - 1s 7ms/step - loss: 3.2615 - acc: 0.4348\n",
      "Epoch 2/10\n",
      "92/92 [==============================] - 0s 1ms/step - loss: 0.8627 - acc: 0.4348\n",
      "Epoch 3/10\n",
      "92/92 [==============================] - 0s 1ms/step - loss: 0.6766 - acc: 0.6196\n",
      "Epoch 4/10\n",
      "92/92 [==============================] - 0s 1ms/step - loss: 0.6631 - acc: 0.6196\n",
      "Epoch 5/10\n",
      "92/92 [==============================] - 0s 1ms/step - loss: 0.5851 - acc: 0.7065\n",
      "Epoch 6/10\n",
      "92/92 [==============================] - 0s 1ms/step - loss: 0.5310 - acc: 0.8152\n",
      "Epoch 7/10\n",
      "92/92 [==============================] - 0s 1ms/step - loss: 0.4875 - acc: 0.8478\n",
      "Epoch 8/10\n",
      "92/92 [==============================] - 0s 2ms/step - loss: 0.4390 - acc: 0.8370\n",
      "Epoch 9/10\n",
      "92/92 [==============================] - 0s 2ms/step - loss: 0.3718 - acc: 0.8696\n",
      "Epoch 10/10\n",
      "92/92 [==============================] - 0s 2ms/step - loss: 0.2982 - acc: 0.8804\n",
      "Confusion Matrix : \n",
      "[[ 7  2]\n",
      " [ 1 13]]\n",
      "Accuracy : 86\n"
     ]
    }
   ],
   "source": [
    "nlp.LSTM(218,218)"
   ]
  }
 ],
 "metadata": {
  "kernelspec": {
   "display_name": "Python 2",
   "language": "python",
   "name": "python2"
  },
  "language_info": {
   "codemirror_mode": {
    "name": "ipython",
    "version": 2
   },
   "file_extension": ".py",
   "mimetype": "text/x-python",
   "name": "python",
   "nbconvert_exporter": "python",
   "pygments_lexer": "ipython2",
   "version": "2.7.14"
  }
 },
 "nbformat": 4,
 "nbformat_minor": 2
}
